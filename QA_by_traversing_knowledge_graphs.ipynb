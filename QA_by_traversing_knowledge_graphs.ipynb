{
  "nbformat": 4,
  "nbformat_minor": 0,
  "metadata": {
    "colab": {
      "provenance": []
    },
    "kernelspec": {
      "name": "python3",
      "display_name": "Python 3"
    },
    "language_info": {
      "name": "python"
    }
  },
  "cells": [
    {
      "cell_type": "code",
      "source": [
        "!pip install -q langchain\n",
        "!pip install -q openai\n",
        "!pip install -q wikipedia\n",
        "!pip install -q tiktoken"
      ],
      "metadata": {
        "colab": {
          "base_uri": "https://localhost:8080/"
        },
        "id": "UtdTnUnHrrF7",
        "outputId": "714d0de3-37f1-478d-86b2-17f2c6b19f3e"
      },
      "execution_count": 1,
      "outputs": [
        {
          "output_type": "stream",
          "name": "stdout",
          "text": [
            "\u001b[2K     \u001b[90m━━━━━━━━━━━━━━━━━━━━━━━━━━━━━━━━━━━━━━\u001b[0m \u001b[32m304.8/304.8 KB\u001b[0m \u001b[31m10.1 MB/s\u001b[0m eta \u001b[36m0:00:00\u001b[0m\n",
            "\u001b[2K     \u001b[90m━━━━━━━━━━━━━━━━━━━━━━━━━━━━━━━━━━━━━━━━\u001b[0m \u001b[32m7.6/7.6 MB\u001b[0m \u001b[31m22.4 MB/s\u001b[0m eta \u001b[36m0:00:00\u001b[0m\n",
            "\u001b[2K     \u001b[90m━━━━━━━━━━━━━━━━━━━━━━━━━━━━━━━━━━━━━━━━\u001b[0m \u001b[32m62.8/62.8 KB\u001b[0m \u001b[31m2.7 MB/s\u001b[0m eta \u001b[36m0:00:00\u001b[0m\n",
            "\u001b[2K     \u001b[90m━━━━━━━━━━━━━━━━━━━━━━━━━━━━━━━━━━━━━━━\u001b[0m \u001b[32m140.6/140.6 KB\u001b[0m \u001b[31m3.0 MB/s\u001b[0m eta \u001b[36m0:00:00\u001b[0m\n",
            "\u001b[2K     \u001b[90m━━━━━━━━━━━━━━━━━━━━━━━━━━━━━━━━━━━━━━━\u001b[0m \u001b[32m289.0/289.0 KB\u001b[0m \u001b[31m2.7 MB/s\u001b[0m eta \u001b[36m0:00:00\u001b[0m\n",
            "\u001b[2K     \u001b[90m━━━━━━━━━━━━━━━━━━━━━━━━━━━━━━━━━━━━━━━\u001b[0m \u001b[32m55.5/55.5 KB\u001b[0m \u001b[31m747.5 kB/s\u001b[0m eta \u001b[36m0:00:00\u001b[0m\n",
            "\u001b[?25h  Installing build dependencies ... \u001b[?25l\u001b[?25hdone\n",
            "  Getting requirements to build wheel ... \u001b[?25l\u001b[?25hdone\n",
            "  Installing backend dependencies ... \u001b[?25l\u001b[?25hdone\n",
            "  Preparing metadata (pyproject.toml) ... \u001b[?25l\u001b[?25hdone\n",
            "  Building wheel for openai (pyproject.toml) ... \u001b[?25l\u001b[?25hdone\n",
            "  Preparing metadata (setup.py) ... \u001b[?25l\u001b[?25hdone\n",
            "  Building wheel for wikipedia (setup.py) ... \u001b[?25l\u001b[?25hdone\n",
            "\u001b[2K     \u001b[90m━━━━━━━━━━━━━━━━━━━━━━━━━━━━━━━━━━━━━━━━\u001b[0m \u001b[32m1.6/1.6 MB\u001b[0m \u001b[31m50.1 MB/s\u001b[0m eta \u001b[36m0:00:00\u001b[0m\n",
            "\u001b[2K     \u001b[90m━━━━━━━━━━━━━━━━━━━━━━━━━━━━━━━━━━━━━━━━\u001b[0m \u001b[32m73.5/73.5 KB\u001b[0m \u001b[31m7.8 MB/s\u001b[0m eta \u001b[36m0:00:00\u001b[0m\n",
            "\u001b[2K     \u001b[90m━━━━━━━━━━━━━━━━━━━━━━━━━━━━━━━━━━━━━━━━\u001b[0m \u001b[32m2.1/2.1 MB\u001b[0m \u001b[31m54.1 MB/s\u001b[0m eta \u001b[36m0:00:00\u001b[0m\n",
            "\u001b[?25h"
          ]
        }
      ]
    },
    {
      "cell_type": "code",
      "execution_count": 13,
      "metadata": {
        "id": "lhmpOpx9p5xm"
      },
      "outputs": [],
      "source": [
        "from langchain.indexes import GraphIndexCreator\n",
        "from langchain.llms import OpenAI\n",
        "from langchain.document_loaders import TextLoader\n",
        "from langchain.chains import GraphQAChain\n",
        "\n",
        "import os \n",
        "import json\n",
        "import wikipedia\n",
        "import networkx as nx\n",
        "from langchain.graphs.networkx_graph import NetworkxEntityGraph, KnowledgeTriple\n",
        "from pprint import pprint"
      ]
    },
    {
      "cell_type": "code",
      "source": [
        "os.environ[\"OPENAI_API_KEY\"] = \"\""
      ],
      "metadata": {
        "id": "UyuG87i0sXIU"
      },
      "execution_count": 10,
      "outputs": []
    },
    {
      "cell_type": "markdown",
      "source": [
        "# Step 1: Build your knowledge bases"
      ],
      "metadata": {
        "id": "iTNScyhQ8PLi"
      }
    },
    {
      "cell_type": "code",
      "source": [
        "index_creator = GraphIndexCreator(llm=OpenAI(temperature=0))\n",
        "\n",
        "def index_topic(topic=\"Taylor Alison Swift\"):  \n",
        "  indexed_kg = NetworkxEntityGraph()\n",
        "  first_entity_graph = index_creator.from_text(wikipedia.summary(topic))\n",
        "  triples = first_entity_graph.get_triples()\n",
        "  neighbor_names = [triple[1] for triple in triples]\n",
        "  for triplet in triples:\n",
        "    indexed_kg.add_triple(KnowledgeTriple(triplet[0], triplet[2], triplet[1]))\n",
        "  for neighbor in neighbor_names:\n",
        "    try: \n",
        "      context = wikipedia.summary(neighbor)\n",
        "      graph = index_creator.from_text(context)\n",
        "      for triplet in graph.get_triples():\n",
        "        indexed_kg.add_triple(KnowledgeTriple(triplet[0], triplet[2], triplet[1]))\n",
        "    except:\n",
        "      pass\n",
        "  return indexed_kg\n",
        "\n",
        "def print_knowledge(graph):\n",
        "  print(len(graph.get_triples()))\n",
        "  pprint(graph.get_triples())"
      ],
      "metadata": {
        "id": "53vOcyFzr6Ja"
      },
      "execution_count": 11,
      "outputs": []
    },
    {
      "cell_type": "code",
      "source": [],
      "metadata": {
        "id": "9LjavSFbgmRI"
      },
      "execution_count": null,
      "outputs": []
    },
    {
      "cell_type": "code",
      "source": [
        "# indexed_kg = index_topic(\"Taylor Alison Swift\")\n",
        "for k in indexed_kg.get_triples():\n",
        "  print(k)"
      ],
      "metadata": {
        "colab": {
          "base_uri": "https://localhost:8080/"
        },
        "id": "aX49sM3s5i_L",
        "outputId": "d252bc3f-89df-4aa6-ec44-e0deb543a48a"
      },
      "execution_count": 17,
      "outputs": [
        {
          "output_type": "stream",
          "name": "stdout",
          "text": [
            "('Taylor Alison Swift', 'an American singer-songwriter', 'is')\n",
            "('Taylor Alison Swift', 'Nashville', 'moved to')\n",
            "('Taylor Alison Swift', 'Sony/ATV Music Publishing', 'signed a songwriting deal with')\n",
            "('Taylor Alison Swift', 'Big Machine Records', 'signed a recording contract with')\n",
            "('Taylor Alison Swift', '2006', 'released her self-titled debut album')\n",
            "('Taylor Alison Swift', 'Fearless and Speak Now', 'released her next albums')\n",
            "('Taylor Alison Swift', '2012', 'released her album Red')\n",
            "('Taylor Alison Swift', '2014', 'released her album 1989')\n",
            "('Taylor Alison Swift', '2017', 'released her album Reputation')\n",
            "('Taylor Alison Swift', 'Republic Records', 'signed with')\n",
            "('Taylor Alison Swift', '2019', 'released her album Lover')\n",
            "('Taylor Alison Swift', '2020', 'released her album Evermore')\n",
            "('Taylor Alison Swift', '2021', \"released her album Red (Taylor's Version)\")\n",
            "('Nashville', 'U.S. state of Tennessee', 'is the capital city of')\n",
            "('Nashville', 'Davidson County', 'is the seat of')\n",
            "('Nashville', '689,447', 'has a population of')\n",
            "('Nashville', 'state', 'is the most populous city in')\n",
            "('Nashville', 'U.S.', 'is the 21st most-populous city in')\n",
            "('Nashville', 'southeastern U.S.', 'is the fourth most populous city in')\n",
            "('Nashville', 'Cumberland River', 'is located on')\n",
            "('Nashville', 'Nashville metropolitan area', 'is the center of')\n",
            "('Nashville', 'nation', 'is one of the fastest growing in')\n",
            "('Nashville', 'Francis Nash', 'is named for')\n",
            "('Nashville', '1779', 'was founded in')\n",
            "('Nashville', 'music industry', 'is a major center for')\n",
            "('Nashville', 'Music City', 'is commonly known as')\n",
            "('Sony/ATV Music Publishing', 'EMI Music Publishing', 'acquired')\n",
            "('Big Machine Records', 'American independent record label', 'is an')\n",
            "('Big Machine Records', 'Universal Music Group', 'is distributed by')\n",
            "('Big Machine Records', 'country and pop artists', 'specializes in')\n",
            "('Big Machine Records', 'Music Row', 'is based on')\n",
            "('Big Machine Records', 'September 2005', 'was founded in')\n",
            "('Big Machine Records', 'Scott Borchetta', 'was founded by')\n",
            "('Big Machine Records', 'Scott Borchetta and Toby Keith', 'is a joint venture between')\n",
            "('Big Machine Records', 'Big Machine Label Group', 'is part of')\n",
            "('2014', 'International Year of Crystallography', 'is designated as')\n",
            "('2014', 'International Year of Family Farming', 'is designated as')\n",
            "('2014', 'International Year of Small Island Developing States', 'is designated as')\n",
            "('2014', 'International Year of Solidarity with the Palestinian People)\\nEND OF EXAMPL', 'is designated as')\n",
            "('Republic Records', 'New York City-based American record label', 'is a')\n",
            "('Republic Records', 'Universal Music Group', 'is owned by')\n",
            "('Republic Records', 'Avery Lipman and Monte Lipman', 'was founded by')\n",
            "('Republic Records', 'UMG', 'was acquired by')\n",
            "('Republic Records', 'Universal/Motown Records Group', 'was initially an imprint of')\n",
            "('Republic Records', 'Universal Republic Records', 'was renamed')\n",
            "('Republic Records', 'its original name)\\nEND OF EXAMPL', 'went back to')\n",
            "('2020', 'leap year', 'is a')\n",
            "('2020', 'Common Era', 'is the 21st century of')\n",
            "('2020', '3rd millennium', 'is the 20th year of')\n",
            "('2020', '2020s decade', 'is the 1st year of')\n",
            "('2020', 'COVID-19 pandemic', 'is heavily defined by')\n",
            "('2020', '\"the worst year in terms of climate change\"', 'is called')\n",
            "('2020', '\"the worst year ever\"', 'is declared')\n",
            "('Singer-songwriter', 'musician', 'is a')\n",
            "('Singer-songwriter', 'musical material', 'writes')\n",
            "('Singer-songwriter', 'lyrics and melodies', 'composes')\n",
            "('Singer-songwriter', 'own musical material', 'performs')\n",
            "('Singer-songwriter', 'guitar or piano', 'uses')\n",
            "('Singer-songwriter', 'digital production tools', 'composes music with')\n",
            "('Sony Music Publishing', 'Sony/ATV Music Publishing', 'was formerly')\n",
            "('Sony Music Publishing', 'Sony Music Group', 'is part of')\n",
            "('Sony Music Publishing', 'Sony/ATV', 'was formed as')\n",
            "('Sony/ATV', 'Michael Jackson', 'was owned by')\n",
            "('Michael Jackson', 'ATV Music', 'purchased')\n",
            "('ATV Music', 'Lennon–McCartney song catalog', 'included')\n",
            "('An investor consortium', 'Sony/ATV Music Publishing', 'led by')\n",
            "('Jon Platt', 'Sony/ATV Music Publishing', 'became CEO/Chairman of')\n",
            "('Martin Bandier', 'Sony/ATV Music Publishing', 'was the longtime CEO/Chairman of')\n",
            "('Sony/ATV Music Publishing and Sony Music Entertainment', 'Sony Music Group', 'were merged under')\n",
            "('Taylor Swift', 'Big Machine Records', 'was the first client of')\n",
            "('2008', 'leap year', 'is a')\n",
            "('2008', '2008th year of the Common Era', 'is the')\n",
            "('2008', '8th year of the 3rd millennium', 'is the')\n",
            "('2008', '21st century', 'is the')\n",
            "('2008', '9th year of the 2000s decade', 'is the')\n",
            "('2008', 'International Year of Languages', 'is designated as')\n",
            "('2008', 'International Year of Planet Earth', 'is designated as')\n",
            "('2008', 'International Year of Sanitation', 'is designated as')\n",
            "('2008', 'International Year of the Potato', 'is designated as')\n",
            "('2008', 'The Great Recession', 'is part of')\n",
            "('Speak Now', 'third studio album', 'is the')\n",
            "('Speak Now', 'American singer-songwriter Taylor Swift', 'is by')\n",
            "('Speak Now', 'Big Machine Records', 'was released through')\n",
            "('Speak Now', 'Swift', 'was written by')\n",
            "('Speak Now', 'Swift and Nathan Chapman', 'was produced by')\n",
            "('Speak Now', 'six singles', 'was supported by')\n",
            "('Speak Now', 'charts', 'peaked atop')\n",
            "('Speak Now', 'double platinum in Australia and triple platinum in Canada', 'was certified')\n",
            "('Speak Now', 'one million copies', 'sold')\n",
            "('Speak Now', 'Best Country Album', 'was nominated for')\n",
            "('Speak Now', 'Best Country Song and Best Country Solo Performance', 'won')\n",
            "('2011', 'Forests', 'is the International Year of')\n",
            "('2011', 'Chemistry', 'is the International Year of')\n",
            "('2011', 'African Descent', 'is the International Year for People of')\n",
            "('Samoa', 'American Samoa)\\nEND OF EXAMPL', 'is now 24 hours ahead of')\n",
            "('2016', 'leap year', 'is a')\n",
            "('2016', '68th session of the United Nations General Assembly', 'is the')\n",
            "('2016', 'International Year of Pulses', 'is designated as')\n",
            "('2016', 'International Year of Global Understanding', 'is designated as')\n",
            "('2016', 'David Bowie', 'marked the deaths of')\n",
            "('2016', 'Prince', 'marked the deaths of')\n",
            "('2016', 'George Michael', 'marked the deaths of')\n",
            "('2016', 'Shimon Peres', 'marked the deaths of')\n",
            "('2016', 'Bhumibol Adulyadej', 'marked the deaths of')\n",
            "('2016', 'Fidel Castro', 'marked the deaths of')\n",
            "('2016', 'hottest year on record', 'is declared the')\n",
            "('2010', 'International Year of Biodiversity', 'is designated as')\n",
            "('2010', 'International Year of Youth', 'is designated as')\n",
            "('2010', '2010 European Year for Combating Poverty and Social Exclusion', 'is designated as')\n",
            "('2010', 'International Year for the Rapprochement of Cultures)\\nEND OF EXAMPL', 'is designated as')\n"
          ]
        }
      ]
    },
    {
      "cell_type": "markdown",
      "source": [
        "# Step 2: Now given a complex question, generate a KG presentation of it to inform what hops do we need to do on the indexed knowledge."
      ],
      "metadata": {
        "id": "6jFrG3XhLn6M"
      }
    },
    {
      "cell_type": "code",
      "source": [
        "question = \"What album did Taylor Alison Swift release that is nominated for Best Country award?\""
      ],
      "metadata": {
        "id": "gLUe-ntmha10"
      },
      "execution_count": 301,
      "outputs": []
    },
    {
      "cell_type": "code",
      "source": [],
      "metadata": {
        "colab": {
          "base_uri": "https://localhost:8080/"
        },
        "id": "Lld7OiuS8Z-0",
        "outputId": "d18422ab-08ee-4a6f-cc8d-49528ebafa9c"
      },
      "execution_count": null,
      "outputs": [
        {
          "output_type": "stream",
          "name": "stdout",
          "text": [
            "question: What album did Taylor Alison Swift release that is nominated for Best Country award?\n"
          ]
        }
      ]
    },
    {
      "cell_type": "markdown",
      "source": [
        "## Q: What album did Taylor Alison Swift release that is nominated for Best Country award?\n",
        "\n",
        "Questions are divided into 2 KG queries: [('Taylor Alison Swift', 'album', 'released'), ('album', 'Best Country award', 'is nominated for')]\n"
      ],
      "metadata": {
        "id": "uWsRSv3k8wjZ"
      }
    },
    {
      "cell_type": "markdown",
      "source": [
        "# Step 3: Sequantial QA:"
      ],
      "metadata": {
        "id": "x-ZCty6U8qu_"
      }
    },
    {
      "cell_type": "code",
      "source": [
        "from langchain import PromptTemplate\n",
        "\n",
        "template = \"\"\"\n",
        "I want you to turn a knowledge graph triple that describes (subjecet, object, predicate) into a question to ask. Each question start with what.\n",
        "The question should be clear and succint, and it should use contain all the verbs and nouns from the triple. It should not have information from outside of the triple\n",
        "\n",
        "Here are some examples:\n",
        "\n",
        "- Triple: ('Adam', 'city', 'lives in') - what city does Adam live in?\n",
        "- Triple: ('city', something, 'is known for') - what is something the city is known for?\n",
        "- Triple: ('song', 'album A', 'was released in') - what song was released in album A?\n",
        "\n",
        "Triple: {triple} -\n",
        "\n",
        "\"\"\"\n",
        "prompt = PromptTemplate(\n",
        "    input_variables=[\"triple\"],\n",
        "    template=template,\n",
        ")\n",
        "\n",
        "def answer_complex_question(question, prompt, knowlege_graph):\n",
        "  print(f\"\"\"question: {question}\"\"\")\n",
        "  graph_question = index_creator.from_text(question)\n",
        "  kg_queries = graph_question.get_triples()\n",
        "  print(f\"Questions are divided into {len(kg_queries)} KG queries: {kg_queries}\\n\")\n",
        "  question_asking_llm = OpenAI()\n",
        "  sub_questions = []\n",
        "  last_answer = \"\"\n",
        "  qa_graph_chain = GraphQAChain.from_llm(OpenAI(), graph=knowlege_graph, verbose=True)\n",
        "  for i, triplet in enumerate(kg_queries):\n",
        "    sub_question = question_asking_llm(prompt.format(triple=str(triplet)))\n",
        "    if last_answer != \"\": \n",
        "      sub_question = f\"\"\"Among {result[\"result\"]}, {sub_question}\"\"\"\n",
        "    print(f\"\\n\\n\\n Step #{i+1}: query {kg_queries[i]} turned into sub_question: {sub_question}\")\n",
        "    result = qa_graph_chain(sub_question)\n",
        "    print( f\"\"\"Question: {result[\"query\"]} \\nAnswer:  {result[\"result\"]}\"\"\")  \n",
        "    last_answer = result[\"result\"]\n",
        "    if \"I don't know\" in last_answer:\n",
        "      last_answer = \"\"\n",
        "  \n",
        "  print(\"/n Final answer: \", last_answer)"
      ],
      "metadata": {
        "id": "uFusSh2Yzzoq"
      },
      "execution_count": 313,
      "outputs": []
    },
    {
      "cell_type": "code",
      "source": [
        "answer_complex_question(question, prompt, indexed_kg)"
      ],
      "metadata": {
        "colab": {
          "base_uri": "https://localhost:8080/"
        },
        "id": "qaaVNZlrjXFq",
        "outputId": "bd1ae0c3-16a2-4fce-c860-30ed1129ef74"
      },
      "execution_count": 314,
      "outputs": [
        {
          "output_type": "stream",
          "name": "stdout",
          "text": [
            "question: What album did Taylor Alison Swift release that is nominated for Best Country award?\n",
            "Questions are divided into 2 KG queries: [('Taylor Alison Swift', 'album', 'released'), ('album', 'Best Country award', 'is nominated for')]\n",
            "\n",
            "\n",
            "\n",
            "\n",
            " Step #1: query ('Taylor Alison Swift', 'album', 'released') turned into sub_question: What album was released by Taylor Alison Swift?\n",
            "\n",
            "\n",
            "\u001b[1m> Entering new GraphQAChain chain...\u001b[0m\n",
            "Entities Extracted:\n",
            "\u001b[32;1m\u001b[1;3m Taylor Alison Swift\u001b[0m\n",
            "Full Context:\n",
            "\u001b[32;1m\u001b[1;3mTaylor Alison Swift is an American singer-songwriter\n",
            "Taylor Alison Swift is known for her genre-spanning discography\n",
            "Taylor Alison Swift is known for her artistic reinventions\n",
            "Taylor Alison Swift is known for her songwriting\n",
            "Taylor Alison Swift moved to Nashville\n",
            "Taylor Alison Swift signed a songwriting deal with Sony/ATV Music Publishing\n",
            "Taylor Alison Swift signed a recording contract with Big Machine Records\n",
            "Taylor Alison Swift released her debut album self-titled\n",
            "Taylor Alison Swift released her next albums Fearless and Speak Now\n",
            "Taylor Alison Swift released her single \"Love Story\"\n",
            "Taylor Alison Swift released her single \"You Belong with Me\"\n",
            "Taylor Alison Swift released her album Red\n",
            "Taylor Alison Swift released her single \"We Are Never Ever Getting Back Together\"\n",
            "Taylor Alison Swift released her album 1989\n",
            "Taylor Alison Swift released her singles \"S\u001b[0m\n",
            "\n",
            "\u001b[1m> Finished chain.\u001b[0m\n",
            "Question: What album was released by Taylor Alison Swift? \n",
            "Answer:   Taylor Alison Swift released her albums self-titled, Fearless, Speak Now, Red, and 1989.\n",
            "\n",
            "\n",
            "\n",
            " Step #2: query ('album', 'Best Country award', 'is nominated for') turned into sub_question: Among  Taylor Alison Swift released her albums self-titled, Fearless, Speak Now, Red, and 1989., What album is nominated for the Best Country award?\n",
            "\n",
            "\n",
            "\u001b[1m> Entering new GraphQAChain chain...\u001b[0m\n",
            "Entities Extracted:\n",
            "\u001b[32;1m\u001b[1;3m Taylor Alison Swift, Fearless, Speak Now, Red, 1989\u001b[0m\n",
            "Full Context:\n",
            "\u001b[32;1m\u001b[1;3mTaylor Alison Swift is an American singer-songwriter\n",
            "Taylor Alison Swift is known for her genre-spanning discography\n",
            "Taylor Alison Swift is known for her artistic reinventions\n",
            "Taylor Alison Swift is known for her songwriting\n",
            "Taylor Alison Swift moved to Nashville\n",
            "Taylor Alison Swift signed a songwriting deal with Sony/ATV Music Publishing\n",
            "Taylor Alison Swift signed a recording contract with Big Machine Records\n",
            "Taylor Alison Swift released her debut album self-titled\n",
            "Taylor Alison Swift released her next albums Fearless and Speak Now\n",
            "Taylor Alison Swift released her single \"Love Story\"\n",
            "Taylor Alison Swift released her single \"You Belong with Me\"\n",
            "Taylor Alison Swift released her album Red\n",
            "Taylor Alison Swift released her single \"We Are Never Ever Getting Back Together\"\n",
            "Taylor Alison Swift released her album 1989\n",
            "Taylor Alison Swift released her singles \"SSpeak Now is the third studio album\n",
            "Speak Now is by American singer-songwriter Taylor Swift\n",
            "Speak Now was released through Big Machine Records\n",
            "Speak Now was written by Swift\n",
            "Speak Now was produced by Swift and Nathan Chapman\n",
            "Speak Now was supported by six singles\n",
            "Speak Now peaked atop charts\n",
            "Speak Now was certified double platinum in Australia and triple platinum in Canada\n",
            "Speak Now sold one million copies\n",
            "Speak Now was nominated for Best Country Album\n",
            "Speak Now won Best Country Song and Best Country Solo Performance\n",
            "Speak Now was certified six times platinum by the Recording Industry Association of America\n",
            "Speak Now received generally positive reviews\u001b[0m\n",
            "\n",
            "\u001b[1m> Finished chain.\u001b[0m\n",
            "Question: Among  Taylor Alison Swift released her albums self-titled, Fearless, Speak Now, Red, and 1989., What album is nominated for the Best Country award? \n",
            "Answer:   Speak Now is nominated for Best Country Album.\n",
            "/n Final answer:   Speak Now is nominated for Best Country Album.\n"
          ]
        }
      ]
    },
    {
      "cell_type": "code",
      "source": [
        "graph_question = index_creator.from_text(question)\n",
        "graph_question.get_triples()"
      ],
      "metadata": {
        "colab": {
          "base_uri": "https://localhost:8080/"
        },
        "id": "vm_jceiVzP__",
        "outputId": "7e93c0bd-296b-4776-d121-d16a37ea9b10"
      },
      "execution_count": 278,
      "outputs": [
        {
          "output_type": "execute_result",
          "data": {
            "text/plain": [
              "[('Taylor Alison Swift', 'album', 'released'),\n",
              " ('album', 'Best Country award', 'is nominated for')]"
            ]
          },
          "metadata": {},
          "execution_count": 278
        }
      ]
    },
    {
      "cell_type": "code",
      "source": [
        "question_asking_llm = OpenAI()"
      ],
      "metadata": {
        "id": "pGvH-q_-OawX"
      },
      "execution_count": 279,
      "outputs": []
    },
    {
      "cell_type": "code",
      "source": [
        "questions = []\n",
        "for triplet in graph_question.get_triples():\n",
        "  question = question_asking_llm(prompt.format(triple=str(triplet)))\n",
        "  print(triplet, question)\n",
        "  questions.append(question)"
      ],
      "metadata": {
        "colab": {
          "base_uri": "https://localhost:8080/"
        },
        "id": "7iJ1uJAUOoxT",
        "outputId": "c7a9e93c-20d4-4fcd-e341-251ab9c70389"
      },
      "execution_count": 280,
      "outputs": [
        {
          "output_type": "stream",
          "name": "stdout",
          "text": [
            "('Taylor Alison Swift', 'album', 'released') What album has Taylor Alison Swift released?\n",
            "('album', 'Best Country award', 'is nominated for') What album is nominated for the Best Country award?\n"
          ]
        }
      ]
    },
    {
      "cell_type": "code",
      "source": [
        "qa_chain = GraphQAChain.from_llm(OpenAI(), graph=indexed_kg, verbose=True)\n",
        "result = qa_chain(questions[0])\n",
        "print( \"1st Question\", result[\"query\"], \"1st answer: \", result[\"result\"])\n",
        "\n",
        "next_question = f\"\"\"Among {result[\"result\"]}, {questions[1]}\"\"\"\n",
        "final_result = qa_chain(next_question)\n",
        "print( \"2nd Question\", final_result[\"query\"], \"2nd answer\", final_result[\"result\"])\n",
        "\n"
      ],
      "metadata": {
        "colab": {
          "base_uri": "https://localhost:8080/"
        },
        "id": "bhCasGgQyCOU",
        "outputId": "5405c692-3cc4-4ab5-c449-f3b7c738228d"
      },
      "execution_count": 284,
      "outputs": [
        {
          "output_type": "stream",
          "name": "stdout",
          "text": [
            "\n",
            "\n",
            "\u001b[1m> Entering new GraphQAChain chain...\u001b[0m\n",
            "Entities Extracted:\n",
            "\u001b[32;1m\u001b[1;3m Taylor Alison Swift\u001b[0m\n",
            "Full Context:\n",
            "\u001b[32;1m\u001b[1;3mTaylor Alison Swift is an American singer-songwriter\n",
            "Taylor Alison Swift is known for her genre-spanning discography\n",
            "Taylor Alison Swift is known for her artistic reinventions\n",
            "Taylor Alison Swift is known for her songwriting\n",
            "Taylor Alison Swift moved to Nashville\n",
            "Taylor Alison Swift signed a songwriting deal with Sony/ATV Music Publishing\n",
            "Taylor Alison Swift signed a recording contract with Big Machine Records\n",
            "Taylor Alison Swift released her debut album self-titled\n",
            "Taylor Alison Swift released her next albums Fearless and Speak Now\n",
            "Taylor Alison Swift released her single \"Love Story\"\n",
            "Taylor Alison Swift released her single \"You Belong with Me\"\n",
            "Taylor Alison Swift released her album Red\n",
            "Taylor Alison Swift released her single \"We Are Never Ever Getting Back Together\"\n",
            "Taylor Alison Swift released her album 1989\n",
            "Taylor Alison Swift released her singles \"S\u001b[0m\n",
            "\n",
            "\u001b[1m> Finished chain.\u001b[0m\n",
            "1st Question What album has Taylor Alison Swift released? 1st answer:   Taylor Alison Swift has released her self-titled debut album, Fearless, Speak Now, Red, and 1989.\n",
            "\n",
            "\n",
            "\u001b[1m> Entering new GraphQAChain chain...\u001b[0m\n",
            "Entities Extracted:\n",
            "\u001b[32;1m\u001b[1;3m Taylor Alison Swift, Fearless, Speak Now, Red, 1989\u001b[0m\n",
            "Full Context:\n",
            "\u001b[32;1m\u001b[1;3mTaylor Alison Swift is an American singer-songwriter\n",
            "Taylor Alison Swift is known for her genre-spanning discography\n",
            "Taylor Alison Swift is known for her artistic reinventions\n",
            "Taylor Alison Swift is known for her songwriting\n",
            "Taylor Alison Swift moved to Nashville\n",
            "Taylor Alison Swift signed a songwriting deal with Sony/ATV Music Publishing\n",
            "Taylor Alison Swift signed a recording contract with Big Machine Records\n",
            "Taylor Alison Swift released her debut album self-titled\n",
            "Taylor Alison Swift released her next albums Fearless and Speak Now\n",
            "Taylor Alison Swift released her single \"Love Story\"\n",
            "Taylor Alison Swift released her single \"You Belong with Me\"\n",
            "Taylor Alison Swift released her album Red\n",
            "Taylor Alison Swift released her single \"We Are Never Ever Getting Back Together\"\n",
            "Taylor Alison Swift released her album 1989\n",
            "Taylor Alison Swift released her singles \"SSpeak Now is the third studio album\n",
            "Speak Now is by American singer-songwriter Taylor Swift\n",
            "Speak Now was released through Big Machine Records\n",
            "Speak Now was written by Swift\n",
            "Speak Now was produced by Swift and Nathan Chapman\n",
            "Speak Now was supported by six singles\n",
            "Speak Now peaked atop charts\n",
            "Speak Now was certified double platinum in Australia and triple platinum in Canada\n",
            "Speak Now sold one million copies\n",
            "Speak Now was nominated for Best Country Album\n",
            "Speak Now won Best Country Song and Best Country Solo Performance\n",
            "Speak Now was certified six times platinum by the Recording Industry Association of America\n",
            "Speak Now received generally positive reviews\u001b[0m\n",
            "\n",
            "\u001b[1m> Finished chain.\u001b[0m\n",
            "2nd Question Among  Taylor Alison Swift has released her self-titled debut album, Fearless, Speak Now, Red, and 1989., What album is nominated for the Best Country award? 2nd answer  Speak Now\n"
          ]
        }
      ]
    },
    {
      "cell_type": "code",
      "source": [],
      "metadata": {
        "id": "nn6IbLD3ylys"
      },
      "execution_count": null,
      "outputs": []
    }
  ]
}